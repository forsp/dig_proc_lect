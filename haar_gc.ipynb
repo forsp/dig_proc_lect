{
 "cells": [
  {
   "cell_type": "markdown",
   "id": "single-breakdown",
   "metadata": {
    "id": "single-breakdown"
   },
   "source": [
    "# Растровые изображения и базис Хаара\n",
    "## Введение\n",
    "\n",
    "С точки зрения линейной алгебры, пространство матриц размером M x N эквивалентно пространству векторов $R^{MN}$, то есть всегда можно \"развернуть\" матрицу (например, по столбцам) так, что получится вектор: \n",
    "\n",
    "$$\n",
    "    \\mathbf{a} = \\mathbf{A}[:] = [\n",
    "        \\begin{array}{ccccccc}\n",
    "            a_{0,0} & \\dots & a_{M-1,0} & a_{0,1} & \\dots & a_{M-1,1} & \\ldots & a_{0, N-1} & \\dots & a_{M-1,N-1}\n",
    "        \\end{array}]^T\n",
    "$$\n",
    "\n",
    "При этом скалярное произведение в пространстве $R^{MN}$ определяется как:\n",
    "\n",
    "$$\n",
    "\\langle \\mathbf{A}, \\mathbf{B} \\rangle = \\sum_{m=0}^{M-1} \\sum_{n=0}^{N-1} a_{m,n} b_{m, n}\n",
    "$$\n",
    "\n",
    "(рассматриваем матрицы действительных чисел, поэтому в формуле нет комплексного сопряжения).\n"
   ]
  },
  {
   "cell_type": "markdown",
   "id": "elegant-contact",
   "metadata": {
    "id": "elegant-contact"
   },
   "source": [
    "Упрощённо, любое цифровое (*$\\textit{растровое}$) изображение представляет собой матрицу, в ячейках которой хранятся цвета каждого пикселя. Если речь идет о чёрно-белых изображениях, то вместо цвета в каждую ячейку помещают значения яркости из отрезка [0, 1]. Но с дробями работать неудобно, поэтому часто значения яркости берут целыми из диапазона от 0 до 255 (при этом 0 соответствует чёрному цвету, 255 — белому). Тогда каждое значение будет занимать ровно 1 байт (8 бит). \n",
    "\n",
    "Зная это, можно сгенерировать простейшее цифровое изображение - шахматную доску $N\\times M$. В среде Python это будет выглядеть так:"
   ]
  },
  {
   "cell_type": "code",
   "execution_count": 1,
   "id": "obvious-hardware",
   "metadata": {
    "executionInfo": {
     "elapsed": 6,
     "status": "ok",
     "timestamp": 1650464184507,
     "user": {
      "displayName": "Екатерина Юрьевна Коротеева",
      "userId": "01202503788797915597"
     },
     "user_tz": -180
    },
    "id": "obvious-hardware"
   },
   "outputs": [],
   "source": [
    "#стандартная преамбула в Python\n",
    "%matplotlib inline\n",
    "import matplotlib\n",
    "import matplotlib.pyplot as plt\n",
    "import numpy as np\n",
    "import IPython #интерактивная оболочка python\n",
    "from IPython.display import Image #возможность демонстрации изображений из файла\n",
    "import math"
   ]
  },
  {
   "cell_type": "code",
   "execution_count": 2,
   "id": "JxOpZceUdsmg",
   "metadata": {
    "colab": {
     "base_uri": "https://localhost:8080/"
    },
    "executionInfo": {
     "elapsed": 23233,
     "status": "ok",
     "timestamp": 1650464218139,
     "user": {
      "displayName": "Екатерина Юрьевна Коротеева",
      "userId": "01202503788797915597"
     },
     "user_tz": -180
    },
    "id": "JxOpZceUdsmg",
    "outputId": "3176e733-e1d2-422c-c517-156df5bc3f8e"
   },
   "outputs": [
    {
     "name": "stdout",
     "output_type": "stream",
     "text": [
      "Mounted at /content/drive\n"
     ]
    }
   ],
   "source": [
    "from google.colab import drive\n",
    "drive.mount('/content/drive')"
   ]
  },
  {
   "cell_type": "code",
   "execution_count": 3,
   "id": "prime-crash",
   "metadata": {
    "colab": {
     "base_uri": "https://localhost:8080/",
     "height": 35
    },
    "executionInfo": {
     "elapsed": 679,
     "status": "ok",
     "timestamp": 1650464221234,
     "user": {
      "displayName": "Екатерина Юрьевна Коротеева",
      "userId": "01202503788797915597"
     },
     "user_tz": -180
    },
    "id": "prime-crash",
    "outputId": "be6673e5-e912-4c9f-ec30-e667176edef7"
   },
   "outputs": [
    {
     "data": {
      "text/plain": [
       "<Figure size 432x288 with 0 Axes>"
      ]
     },
     "metadata": {},
     "output_type": "display_data"
    }
   ],
   "source": [
    "# включаем черно-белую гамму\n",
    "plt.gray();"
   ]
  },
  {
   "cell_type": "code",
   "execution_count": 5,
   "id": "loaded-thirty",
   "metadata": {
    "colab": {
     "base_uri": "https://localhost:8080/",
     "height": 423
    },
    "executionInfo": {
     "elapsed": 8,
     "status": "ok",
     "timestamp": 1650464236200,
     "user": {
      "displayName": "Екатерина Юрьевна Коротеева",
      "userId": "01202503788797915597"
     },
     "user_tz": -180
    },
    "id": "loaded-thirty",
    "outputId": "0db2c320-3236-40c1-bc6e-7d6c62cc28d1"
   },
   "outputs": [
    {
     "data": {
      "image/png": "[encoded data removed]",
      "text/plain": [
       "<Figure size 288x480 with 1 Axes>"
      ]
     },
     "metadata": {
      "needs_background": "light"
     },
     "output_type": "display_data"
    }
   ],
   "source": [
    "# создаем шахматную доску\n",
    "N = 5\n",
    "M = 3\n",
    "img = np.zeros((N, M))\n",
    "for n in range(0, N):\n",
    "    for m in range(0, M):\n",
    "        if (n & 0x1) ^ (m & 0x1): # '^' - XOR (исключающее ИЛИ)\n",
    "            img[n, m] = 255\n",
    "\n",
    "# выводим полученную матрицу в виде изображения\n",
    "plt.matshow(img); "
   ]
  },
  {
   "cell_type": "markdown",
   "id": "known-globe",
   "metadata": {
    "id": "known-globe"
   },
   "source": [
    "## Реальные изображения\n",
    "\n",
    "Аналогично, используя оболочку IPython, можно загрузить любое цифровое изображение и преобразовать его в матрицу (двумерный массив):"
   ]
  },
  {
   "cell_type": "code",
   "execution_count": 6,
   "id": "interstate-romance",
   "metadata": {
    "colab": {
     "base_uri": "https://localhost:8080/"
    },
    "executionInfo": {
     "elapsed": 781,
     "status": "ok",
     "timestamp": 1650464272991,
     "user": {
      "displayName": "Екатерина Юрьевна Коротеева",
      "userId": "01202503788797915597"
     },
     "user_tz": -180
    },
    "id": "interstate-romance",
    "outputId": "b3a37d41-eb6c-49a8-b102-ea248d6d3a7b"
   },
   "outputs": [
    {
     "data": {
      "text/plain": [
       "(64, 64)"
      ]
     },
     "execution_count": 6,
     "metadata": {},
     "output_type": "execute_result"
    }
   ],
   "source": [
    " # конвертируем изображение в матрицу\n",
    "img = np.array(plt.imread('/content/drive/MyDrive/Colab/jet_64x64.jpg'), dtype=int)\n",
    "# выводим размер матрицы\n",
    "img_X = len(img[:]); # число строк\n",
    "img_Y = len(img[0,:]); # число столбцов\n",
    "np.shape(img)"
   ]
  },
  {
   "cell_type": "code",
   "execution_count": 7,
   "id": "corporate-player",
   "metadata": {
    "colab": {
     "base_uri": "https://localhost:8080/",
     "height": 275
    },
    "executionInfo": {
     "elapsed": 357,
     "status": "ok",
     "timestamp": 1650464289221,
     "user": {
      "displayName": "Екатерина Юрьевна Коротеева",
      "userId": "01202503788797915597"
     },
     "user_tz": -180
    },
    "id": "corporate-player",
    "outputId": "4b422b72-bad4-447e-9516-5ad32e2c80da"
   },
   "outputs": [
    {
     "data": {
      "image/png": "[encoded data removed]",
      "text/plain": [
       "<Figure size 288x288 with 1 Axes>"
      ]
     },
     "metadata": {
      "needs_background": "light"
     },
     "output_type": "display_data"
    }
   ],
   "source": [
    "# выводим само изабражение\n",
    "plt.matshow(img);"
   ]
  },
  {
   "cell_type": "markdown",
   "id": "optical-commercial",
   "metadata": {
    "id": "optical-commercial"
   },
   "source": [
    "Изображение имеет разрешение $64\\times64$ пк. Выведем значение какого-нибудь столбца - вектора $64\\times1$:"
   ]
  },
  {
   "cell_type": "code",
   "execution_count": 8,
   "id": "backed-punishment",
   "metadata": {
    "colab": {
     "base_uri": "https://localhost:8080/"
    },
    "executionInfo": {
     "elapsed": 322,
     "status": "ok",
     "timestamp": 1650464310125,
     "user": {
      "displayName": "Екатерина Юрьевна Коротеева",
      "userId": "01202503788797915597"
     },
     "user_tz": -180
    },
    "id": "backed-punishment",
    "outputId": "ccb0af09-5dd0-412e-ff5e-f18abe96cb25"
   },
   "outputs": [
    {
     "data": {
      "text/plain": [
       "array([49, 46, 43, 40, 36, 35, 38, 43, 45, 46, 45, 41, 37, 37, 40, 42, 49,\n",
       "       57, 68, 71, 69, 66, 63, 62, 60, 59, 60, 62, 67, 73, 78, 82, 80, 80,\n",
       "       76, 71, 66, 65, 64, 65, 66, 67, 69, 70, 71, 70, 69, 68, 65, 61, 60,\n",
       "       61, 65, 71, 77, 81, 79, 78, 76, 75, 74, 71, 69, 72])"
      ]
     },
     "execution_count": 8,
     "metadata": {},
     "output_type": "execute_result"
    }
   ],
   "source": [
    "img[:,10]"
   ]
  },
  {
   "cell_type": "markdown",
   "id": "interesting-warning",
   "metadata": {
    "id": "interesting-warning"
   },
   "source": [
    "## Канонический базис\n",
    "\n",
    "Каноническим базисом в пространстве матриц размером $M \\times N$ (пространстве векторов $R^{MN}$)  будет т.н. набор «дельта» матриц $e(N\\times M)$, в которых лишь один элемент равен 1, а остальные - нули."
   ]
  },
  {
   "cell_type": "code",
   "execution_count": 9,
   "id": "thermal-inspection",
   "metadata": {
    "executionInfo": {
     "elapsed": 324,
     "status": "ok",
     "timestamp": 1650464358495,
     "user": {
      "displayName": "Екатерина Юрьевна Коротеева",
      "userId": "01202503788797915597"
     },
     "user_tz": -180
    },
    "id": "thermal-inspection"
   },
   "outputs": [],
   "source": [
    "# создаем функцию, строящую \"дельта\"-матрицы размером NxM\n",
    "def canonical(n, M, N):\n",
    "    e = np.zeros((M, N))\n",
    "    e[(n % M), int(n / M)] = 1\n",
    "    return e"
   ]
  },
  {
   "cell_type": "code",
   "execution_count": 13,
   "id": "greek-tamil",
   "metadata": {
    "colab": {
     "base_uri": "https://localhost:8080/",
     "height": 809
    },
    "executionInfo": {
     "elapsed": 898,
     "status": "ok",
     "timestamp": 1650464400389,
     "user": {
      "displayName": "Екатерина Юрьевна Коротеева",
      "userId": "01202503788797915597"
     },
     "user_tz": -180
    },
    "id": "greek-tamil",
    "outputId": "8d26ff50-4ee1-4746-ddf0-f96f18436601"
   },
   "outputs": [
    {
     "data": {
      "text/plain": [
       "<matplotlib.image.AxesImage at 0x7ffa22e5b6d0>"
      ]
     },
     "execution_count": 13,
     "metadata": {},
     "output_type": "execute_result"
    },
    {
     "data": {
      "image/png": "[encoded data removed]",
      "text/plain": [
       "<Figure size 460.8x288 with 1 Axes>"
      ]
     },
     "metadata": {
      "needs_background": "light"
     },
     "output_type": "display_data"
    },
    {
     "data": {
      "image/png": "[encoded data removed]",
      "text/plain": [
       "<Figure size 460.8x288 with 1 Axes>"
      ]
     },
     "metadata": {
      "needs_background": "light"
     },
     "output_type": "display_data"
    },
    {
     "data": {
      "image/png": "[encoded data removed]",
      "text/plain": [
       "<Figure size 460.8x288 with 1 Axes>"
      ]
     },
     "metadata": {
      "needs_background": "light"
     },
     "output_type": "display_data"
    }
   ],
   "source": [
    "# зададим размер пространства \n",
    "N = 5\n",
    "M = 8\n",
    "# выведем несколько базисных векторов в виде изображения\n",
    "plt.matshow(canonical (0,N,M))\n",
    "plt.matshow(canonical (10,N,M))\n",
    "plt.matshow(canonical (32,N,M))"
   ]
  },
  {
   "cell_type": "markdown",
   "id": "tight-entry",
   "metadata": {
    "id": "tight-entry"
   },
   "source": [
    "## Хранение и передача изображений\n",
    "\n",
    "Даже небольшие изображения требуют много памяти для хранения. Так, если информация о яркости каждого пикселя занимает 1 байт, то изображение одного кадра в формате FullHD (1920$\\times$1080 пк) требует уже почти 2 мегабайта памяти. Тогда для хранения полуторачасового фильма необходимо уже более 200 гигабайт (!).\n",
    "\n",
    "В этой связи возникает необходимость сжатия изображений. В идеале, сжатие предполагает кодирование изображений так, чтобы они занимали как можно меньший объем памяти, а во время просмотра происходило декодирование записанных в память данных, чтобы получался исходный кадр. На сегодняшний день изобретено множество алгоритмов сжатия (об этом можно судить по количеству форматов, поддерживаемых современными архиваторами: ZIP, 7Z, RAR, GZIP, BZ2 и пр.). \n",
    "\n",
    "К сожалению, теоретический предел сжатия данных для изображений не так уж и велик. Это происходит из-за того, что в изображениях из реального мира (например, фотографиях) значения яркости редко бывают одинаковыми даже у соседних пикселей. Эти колебания яркости могут быть незаметны человеческому глазу, но при сжатии их все равно приходится учитывать. В то же время, алгоритмы сжатия «любят», когда в данных есть закономерность. Так, последовательность из ста нулей кодируется лишь парой чисел (100,0). Однако если в середине последовательности окажется единица, для ее кодирования потребуется уже больший объем информации.\n",
    "\n",
    "Другая проблема - восстановление данных на случай потерь в канале передачи. Допустим, нам нужно переслать наше экспериментальное изображение размером 64х64 пк. Напрямую, это эквивалентно пересылке 64х64=4096 коэффициентов разложения изображения по каноническому базису. Допустим, из-за обрыва в канале передачи удалось отправить только половину информации. Это можно смоделировать следующим образом:\n"
   ]
  },
  {
   "cell_type": "code",
   "execution_count": 14,
   "id": "cellular-snowboard",
   "metadata": {
    "colab": {
     "base_uri": "https://localhost:8080/",
     "height": 275
    },
    "executionInfo": {
     "elapsed": 390,
     "status": "ok",
     "timestamp": 1650464582458,
     "user": {
      "displayName": "Екатерина Юрьевна Коротеева",
      "userId": "01202503788797915597"
     },
     "user_tz": -180
    },
    "id": "cellular-snowboard",
    "outputId": "b26b8b27-c45a-480b-8eb6-3dbd69fd07f5"
   },
   "outputs": [
    {
     "data": {
      "image/png": "[encoded data removed]",
      "text/plain": [
       "<Figure size 288x288 with 1 Axes>"
      ]
     },
     "metadata": {
      "needs_background": "light"
     },
     "output_type": "display_data"
    }
   ],
   "source": [
    "# преобразуем матрицу изображения в вектор по столбцам:\n",
    "ar_img = np.ravel(img, order=\"F\")\n",
    "# удаляем половину данных:\n",
    "ar_img[int(len(ar_img)/2):] = 0\n",
    "# «пересобираем» матрицу и выводим изображение:\n",
    "re_img = np.reshape(ar_img, (img_X, img_Y), order=\"F\")\n",
    "plt.matshow(re_img);"
   ]
  },
  {
   "cell_type": "markdown",
   "id": "valued-fishing",
   "metadata": {
    "id": "valued-fishing"
   },
   "source": [
    "## Преобразование Хаара\n",
    "\n",
    "Итак, стоит задача: преобразовать изображение так, чтобы оно хорошо сжималось классическими алгоритмами и было более устойчивым к потерям в канале передачи. Для этого можно использовать разложение не по каноническому базису, а по ортогональному $\\textbf{базису Хаара}$.\n",
    "\n",
    "Вспомним, что яркость соседних пикселей на «реальных» изображениях обычно отличается на небольшую величину, т.е. резкие перепады яркости встречаются редко и лишь на малой части изображения.\n",
    "\n",
    "Рассмотрим фрагмент выведенной строки нашего изображения:\n",
    "\n",
    ".., 69, 67, 65, 65, 64, 62, 63, 64, ..\n",
    "\n",
    "Разобьем данную последовательность на пары и каждой паре элементов поставим в соответствие два числа - их полусумму и полуразность. Тогда на выходе получим две последовательности (68, 65, 63, 63.5) и (1.0, 0.0, 1.0, -0.5). Повторяя операцию применительно к первой последовательности, получим (66.5, 63.25) и (1.5, -0.25). Таким образом, для каждого элемента исходного сигнала на выходе мы получаем два сигнала, один из которых является огрубленной версией входного сигнала, а второй содержит детализирующую информацию, необходимую для восстановления исходного сигнала. Этот принцип - выделение информации при различных уровнях детализации - лежит в основе $\\textbf{вейвлет-преобразования сигналов}$.\n",
    "\n",
    "Не углубляясь в математику, попробуем сгенерировать $\\textit{ортогональный}$ базис Хаара для квадратных матриц, число строк и столбцов в которых является степенью 2. Для этого сначала генерируем 1-мерный вектор Хаара, а затем на его основе построим базисные матрицы (размером 8х8) в виде векторного произведения всех возможных 1-мерных векторов.\n",
    "\n"
   ]
  },
  {
   "cell_type": "code",
   "execution_count": 15,
   "id": "several-cable",
   "metadata": {
    "executionInfo": {
     "elapsed": 351,
     "status": "ok",
     "timestamp": 1650464741912,
     "user": {
      "displayName": "Екатерина Юрьевна Коротеева",
      "userId": "01202503788797915597"
     },
     "user_tz": -180
    },
    "id": "several-cable"
   },
   "outputs": [],
   "source": [
    "def haar1D(n, SIZE):\n",
    "    # проверяем размер вектора (должен быть степенью 2)\n",
    "    if math.floor(math.log(SIZE) / math.log(2)) != math.log(SIZE) / math.log(2):\n",
    "        print(\"invalid Haar size\")\n",
    "        return None\n",
    "    if n >= SIZE or n < 0:\n",
    "        print(\"invalid Haar index\")\n",
    "        return None\n",
    "    \n",
    "    # задаем нулевой базисный вектор\n",
    "    if n == 0:\n",
    "        return np.ones(SIZE)\n",
    "    \n",
    "    # для n > 1 зададаем параметр сдвига s = qk,\n",
    "    # k = SIZE/2^p, p - максимально возможное, \n",
    "    # q = n - 2^p\n",
    "    p = math.floor(math.log(n) / math.log(2))\n",
    "    pp = int(pow(2, p))\n",
    "    k = SIZE / pp\n",
    "    s = (n - pp) * k\n",
    "    \n",
    "    h = np.zeros(SIZE)\n",
    "    h[int(s):int(s+k/2)] = 1\n",
    "    h[int(s+k/2):int(s+k)] = -1\n",
    "    return h\n",
    "\n",
    "\n",
    "def haar2D(n, SIZE):\n",
    "    # задаем горизонтальные и вертикальные индексы\n",
    "    hr = haar1D(n % SIZE, SIZE) # % - оператор остатка от деления целых\n",
    "    hv = haar1D(int(n / SIZE), SIZE)\n",
    "    # матрица Хаара - внешнее произведение двух 1D векторов Хаара\n",
    "    H = np.outer(hr, hv)\n",
    "    H = H / math.sqrt(np.sum(H * H))\n",
    "    return H"
   ]
  },
  {
   "cell_type": "markdown",
   "id": "minor-dietary",
   "metadata": {
    "id": "minor-dietary"
   },
   "source": [
    "Выведем несколько базисных матриц в пространстве $\\textbf{R}^{8\\times8}$ (поскольку элементы матрицы могут принимать как положительные, так и отрицательные значения, значению 0 соответствует серый цвет):\n"
   ]
  },
  {
   "cell_type": "code",
   "execution_count": 17,
   "id": "completed-behavior",
   "metadata": {
    "colab": {
     "base_uri": "https://localhost:8080/",
     "height": 1000
    },
    "executionInfo": {
     "elapsed": 919,
     "status": "ok",
     "timestamp": 1650464810229,
     "user": {
      "displayName": "Екатерина Юрьевна Коротеева",
      "userId": "01202503788797915597"
     },
     "user_tz": -180
    },
    "id": "completed-behavior",
    "outputId": "e2569ef1-669d-4d97-d54c-f15fccdcf215"
   },
   "outputs": [
    {
     "data": {
      "image/png": "[encoded data removed]",
      "text/plain": [
       "<Figure size 288x288 with 1 Axes>"
      ]
     },
     "metadata": {
      "needs_background": "light"
     },
     "output_type": "display_data"
    },
    {
     "data": {
      "image/png": "[encoded data removed]",
      "text/plain": [
       "<Figure size 288x288 with 1 Axes>"
      ]
     },
     "metadata": {
      "needs_background": "light"
     },
     "output_type": "display_data"
    },
    {
     "data": {
      "image/png": "[encoded data removed]",
      "text/plain": [
       "<Figure size 288x288 with 1 Axes>"
      ]
     },
     "metadata": {
      "needs_background": "light"
     },
     "output_type": "display_data"
    },
    {
     "data": {
      "image/png": "[encoded data removed]",
      "text/plain": [
       "<Figure size 288x288 with 1 Axes>"
      ]
     },
     "metadata": {
      "needs_background": "light"
     },
     "output_type": "display_data"
    }
   ],
   "source": [
    "plt.matshow(haar2D(0,8));\n",
    "plt.matshow(haar2D(2,8));\n",
    "plt.matshow(haar2D(35,8));\n",
    "plt.matshow(haar2D(63,8));"
   ]
  },
  {
   "attachments": {
    "haar.png": {
     "image/png": "[encoded data removed]"
    }
   },
   "cell_type": "markdown",
   "id": "contrary-salvation",
   "metadata": {
    "id": "contrary-salvation"
   },
   "source": [
    "Можно заметить, что:\n",
    "\n",
    "* базисные матрицы содержат как положительные, так и отрицательные значения, расположенные в симметричном порядке: значит, такой базис будет вычислять разности между различными зонами изображения\n",
    "* чем больше индекс матрицы, тем эти зоны оказываются более $\\textit{локализованными}$\n",
    "\n",
    "\n",
    "В общем случае, матрица перехода к ортогональному базису Хаара в пространстве $\\textbf{R}^{8\\times8}$ выглядит примерно так:\n",
    "\n",
    "![haar.png](attachment:haar.png)\n",
    "\n",
    "Можно проверить ортогональность базисных матриц:"
   ]
  },
  {
   "cell_type": "code",
   "execution_count": 18,
   "id": "outside-subdivision",
   "metadata": {
    "colab": {
     "base_uri": "https://localhost:8080/"
    },
    "executionInfo": {
     "elapsed": 383,
     "status": "ok",
     "timestamp": 1650464838588,
     "user": {
      "displayName": "Екатерина Юрьевна Коротеева",
      "userId": "01202503788797915597"
     },
     "user_tz": -180
    },
    "id": "outside-subdivision",
    "outputId": "0a798ede-77e0-461d-ed00-2f5cedd6837c"
   },
   "outputs": [
    {
     "name": "stdout",
     "output_type": "stream",
     "text": [
      "[0x0 ->  1.00] [1x1 ->  1.00] [2x2 ->  1.00] [3x3 ->  1.00] [4x4 ->  1.00] [5x5 ->  1.00] [6x6 ->  1.00] [7x7 ->  1.00] [8x8 ->  1.00] [9x9 ->  1.00] [10x10 ->  1.00] [11x11 ->  1.00] [12x12 ->  1.00] [13x13 ->  1.00] [14x14 ->  1.00] [15x15 ->  1.00] [16x16 ->  1.00] [16x17 -> -0.00] [17x16 -> -0.00] [17x17 ->  1.00] [18x18 ->  1.00] [19x19 ->  1.00] [20x20 ->  1.00] [21x21 ->  1.00] [22x22 ->  1.00] [23x23 ->  1.00] [24x24 ->  1.00] [24x25 -> -0.00] [25x24 -> -0.00] [25x25 ->  1.00] [26x26 ->  1.00] [27x27 ->  1.00] [28x28 ->  1.00] [29x29 ->  1.00] [30x30 ->  1.00] [31x31 ->  1.00] [32x32 ->  1.00] [33x33 ->  1.00] [34x34 ->  1.00] [35x35 ->  1.00] [36x36 ->  1.00] [37x37 ->  1.00] [38x38 ->  1.00] [39x39 ->  1.00] [40x40 ->  1.00] [41x41 ->  1.00] [42x42 ->  1.00] [43x43 ->  1.00] [44x44 ->  1.00] [45x45 ->  1.00] [46x46 ->  1.00] [47x47 ->  1.00] [48x48 ->  1.00] [49x49 ->  1.00] [50x50 ->  1.00] [51x51 ->  1.00] [52x52 ->  1.00] [53x53 ->  1.00] [54x54 ->  1.00] [55x55 ->  1.00] [56x56 ->  1.00] [57x57 ->  1.00] [58x58 ->  1.00] [59x59 ->  1.00] [60x60 ->  1.00] [61x61 ->  1.00] [62x62 ->  1.00] [63x63 ->  1.00] "
     ]
    }
   ],
   "source": [
    "# вычислим скалярное произведение всех базисных матриц и выведем только ненулевые результаты\n",
    "for m in range(0,64):\n",
    "    for n in range(0,64):\n",
    "        r = np.sum(haar2D(m, 8) * haar2D(n, 8))\n",
    "        if r != 0:\n",
    "            print(\"[%dx%d -> % .2f] \" % (m, n, r), end=\"\")"
   ]
  },
  {
   "cell_type": "markdown",
   "id": "promising-federal",
   "metadata": {
    "id": "promising-federal"
   },
   "source": [
    "Убедившись, что получившийся базис ортогонален, разложим наше изображение по этому базису:"
   ]
  },
  {
   "cell_type": "code",
   "execution_count": 19,
   "id": "victorian-mortality",
   "metadata": {
    "colab": {
     "base_uri": "https://localhost:8080/",
     "height": 275
    },
    "executionInfo": {
     "elapsed": 980,
     "status": "ok",
     "timestamp": 1650464866119,
     "user": {
      "displayName": "Екатерина Юрьевна Коротеева",
      "userId": "01202503788797915597"
     },
     "user_tz": -180
    },
    "id": "victorian-mortality",
    "outputId": "3873369e-ace8-49cf-e2e7-a40436cdb78f"
   },
   "outputs": [
    {
     "data": {
      "image/png": "[encoded data removed]",
      "text/plain": [
       "<Figure size 288x288 with 1 Axes>"
      ]
     },
     "metadata": {
      "needs_background": "light"
     },
     "output_type": "display_data"
    }
   ],
   "source": [
    "# спроецируем исходное изображение на базис Хаара, получим 4096 коэффициентов разложения:\n",
    "haar_img = np.zeros(img_X*img_Y)\n",
    "for k in range(0, (img_X*img_Y)):\n",
    "    haar_img[k] = np.sum(img * haar2D(k, img_X))\n",
    "\n",
    "# затем восстановим (синтезируем) исходное изображение:\n",
    "re_img = np.zeros((img_X,img_Y))\n",
    "for k in range(0, (img_X*img_Y)):\n",
    "    re_img += haar_img[k] * haar2D(k, img_X)\n",
    "\n",
    "plt.matshow(re_img);"
   ]
  },
  {
   "cell_type": "markdown",
   "id": "virtual-nepal",
   "metadata": {
    "id": "virtual-nepal"
   },
   "source": [
    "Теперь представим опять, что половина коэффициентов разложения была утрачена в канале передачи, и попробуем снова восстановить исходное изображение:"
   ]
  },
  {
   "cell_type": "code",
   "execution_count": 20,
   "id": "short-february",
   "metadata": {
    "colab": {
     "base_uri": "https://localhost:8080/",
     "height": 275
    },
    "executionInfo": {
     "elapsed": 857,
     "status": "ok",
     "timestamp": 1650464897789,
     "user": {
      "displayName": "Екатерина Юрьевна Коротеева",
      "userId": "01202503788797915597"
     },
     "user_tz": -180
    },
    "id": "short-february",
    "outputId": "080e9d87-5013-4f32-dd98-a1d27196867e"
   },
   "outputs": [
    {
     "data": {
      "image/png": "[encoded data removed]",
      "text/plain": [
       "<Figure size 288x288 with 1 Axes>"
      ]
     },
     "metadata": {
      "needs_background": "light"
     },
     "output_type": "display_data"
    }
   ],
   "source": [
    "new_img = np.copy(haar_img);\n",
    "new_img[int(len(new_img)/2):] = 0\n",
    "\n",
    "# \"пересобираем\" матрицу\n",
    "re_img = np.zeros((img_X,img_Y))\n",
    "for k in range(0, (img_X*img_Y)):\n",
    "    re_img += new_img[k] * haar2D(k, img_X)\n",
    "\n",
    "plt.matshow(re_img);"
   ]
  },
  {
   "cell_type": "markdown",
   "id": "scientific-haiti",
   "metadata": {
    "id": "scientific-haiti"
   },
   "source": [
    "В данном случае мы сохранили первую половину коэффициентов разложения, соответствующих полусумме значений яркости. Если представить, что сохранилась только вторая половина коэффициентов, результат восстановления будет уже другой:"
   ]
  },
  {
   "cell_type": "code",
   "execution_count": 21,
   "id": "spare-traffic",
   "metadata": {
    "colab": {
     "base_uri": "https://localhost:8080/",
     "height": 275
    },
    "executionInfo": {
     "elapsed": 918,
     "status": "ok",
     "timestamp": 1650464952056,
     "user": {
      "displayName": "Екатерина Юрьевна Коротеева",
      "userId": "01202503788797915597"
     },
     "user_tz": -180
    },
    "id": "spare-traffic",
    "outputId": "36d4182a-3a62-4ca2-9cba-99ebff1f768d"
   },
   "outputs": [
    {
     "data": {
      "image/png": "[encoded data removed]",
      "text/plain": [
       "<Figure size 288x288 with 1 Axes>"
      ]
     },
     "metadata": {
      "needs_background": "light"
     },
     "output_type": "display_data"
    }
   ],
   "source": [
    "new_img = np.copy(haar_img);\n",
    "new_img[0:int(len(new_img)/2)] = 0\n",
    "\n",
    "# \"пересобираем\" матрицу\n",
    "re_img = np.zeros((img_X,img_Y))\n",
    "for k in range(0, (img_X*img_Y)):\n",
    "    re_img += new_img[k] * haar2D(k, img_X)\n",
    "\n",
    "plt.matshow(re_img);"
   ]
  },
  {
   "cell_type": "markdown",
   "id": "auburn-investor",
   "metadata": {
    "id": "auburn-investor"
   },
   "source": [
    "Таким образом, преобразование Хаара можно считать неким фильтром, разделяющим сигнал на низкочастотную и высокочастотную составляющие. Так, полусуммы элементов изображения усредняют значения яркостей, то есть «отфильтровывают» случайные всплески значений. Аналогично, разности «выделяют» среди значений межпиксельные «всплески», т.е. «отфильтровывают» низкие частоты. Если наше изображение - фотография человека, то низкочастотная составляющая несёт в себе информацию об общей форме лица, о плавных перепадах яркости, а высокочастотная — это шум и мелкие детали. Чтобы получить исходное изображение (сигнал), нужно просто снова объединить обе составляющие.\n",
    "\n",
    "Преобразование Хаара лежит в основе поэтапного кодирования - сначала отправляются элементы, несущие приближенную информацию с низким разрешением (низкочастотная составляющая), а затем, если канал передачи позволяет, добавляется детализирующая информация (высокочастотная составляющая). Это можно наблюдать, например, в процессе открытия интернет-страниц при низкой скорости сети.\n",
    "\n",
    "Очевидно, что преобразование Хаара будет давать наилучший результат, когда мы получим много нулей, то есть, когда изображение содержит длинные участки одинаковых значений яркости. Это может быть, например, рентгеновский снимок, отсканированный документ.\n",
    "\n",
    "Говорят, что преобразование Хаара устраняет т.н. константную составляющую (момент нулевого порядка), то есть переводит константы в нули. Для устранения моментов более высокого порядка имеются усовершенствованные вейвлет-преобразования (например, преобразование Добеши).\n"
   ]
  },
  {
   "cell_type": "markdown",
   "id": "expensive-scene",
   "metadata": {
    "id": "expensive-scene"
   },
   "source": [
    "Подробнее про вейвлет Хаара и вейвлет-преобразования можно найти в литературе: \n",
    "\n",
    "1) Яковлев А.Н. Введение в вейвлет-преобразования: Учеб. пособие. – Новосибирск: Изд-во НГТУ, 2003.\n",
    "\n",
    "2) Уэлстид С. Фракталы и вейвлеты для сжатия изображений в действии. — М.: Триумф, 2003."
   ]
  }
 ],
 "metadata": {
  "colab": {
   "name": "haar.ipynb",
   "provenance": []
  },
  "kernelspec": {
   "display_name": "fpy",
   "language": "python",
   "name": "py3"
  },
  "language_info": {
   "codemirror_mode": {
    "name": "ipython",
    "version": 3
   },
   "file_extension": ".py",
   "mimetype": "text/x-python",
   "name": "python",
   "nbconvert_exporter": "python",
   "pygments_lexer": "ipython3",
   "version": "3.9.2"
  }
 },
 "nbformat": 4,
 "nbformat_minor": 5
}
