{
 "cells": [
  {
   "cell_type": "markdown",
   "id": "historic-cleveland",
   "metadata": {},
   "source": [
    "# Растровые изображения и базис Хаара\n",
    "## Введение\n",
    "\n",
    "С точки зрения линейной алгебры, пространство матриц размером M x N эквивалентно пространству векторов $R^{MN}$, то есть всегда можно \"развернуть\" матрицу (например, по столбцам) так, что получится вектор: \n",
    "\n",
    "$$\n",
    "    \\mathbf{a} = \\mathbf{A}[:] = [\n",
    "        \\begin{array}{ccccccc}\n",
    "            a_{0,0} & \\dots & a_{M-1,0} & a_{0,1} & \\dots & a_{M-1,1} & \\ldots & a_{0, N-1} & \\dots & a_{M-1,N-1}\n",
    "        \\end{array}]^T\n",
    "$$\n",
    "\n",
    "При этом скалярное произведение в пространстве $R^{MN}$ определяется как:\n",
    "\n",
    "$$\n",
    "\\langle \\mathbf{A}, \\mathbf{B} \\rangle = \\sum_{m=0}^{M-1} \\sum_{n=0}^{N-1} a_{m,n} b_{m, n}\n",
    "$$\n",
    "\n",
    "(рассматриваем матрицы действительных чисел, поэтому в формуле нет комплексного сопряжения).\n"
   ]
  },
  {
   "cell_type": "markdown",
   "id": "heard-salvation",
   "metadata": {},
   "source": [
    "Упрощённо, любое цифровое (! $\\textit{растровое}$) изображение представляет собой матрицу, в ячейках которой хранятся цвета каждого пикселя. Если речь идет о чёрно-белых изображениях, то вместо цвета в каждую ячейку помещают значения яркости из отрезка [0, 1]. Но с дробями работать неудобно, поэтому часто значения яркости берут целыми из диапазона от 0 до 255 (при этом 0 соответствует чёрному цвету, 255 — белому). Тогда каждое значение будет занимать ровно 1 байт (8 бит). \n",
    "\n",
    "Зная это, можно сгенерировать простейшее цифровое изображение - шахматную доску $N\\times M$. В среде Python это будет выглядеть так:"
   ]
  },
  {
   "cell_type": "code",
   "execution_count": 1,
   "id": "obvious-hardware",
   "metadata": {},
   "outputs": [],
   "source": [
    "#стандартная преамбула в Python\n",
    "%matplotlib inline\n",
    "import matplotlib\n",
    "import matplotlib.pyplot as plt\n",
    "import numpy as np\n",
    "import IPython\n",
    "from IPython.display import Image\n",
    "import math"
   ]
  },
  {
   "cell_type": "code",
   "execution_count": 2,
   "id": "sensitive-skill",
   "metadata": {},
   "outputs": [
    {
     "data": {
      "text/plain": [
       "<Figure size 432x288 with 0 Axes>"
      ]
     },
     "metadata": {},
     "output_type": "display_data"
    }
   ],
   "source": [
    "# включаем черно-белую гамму\n",
    "plt.gray();"
   ]
  },
  {
   "cell_type": "code",
   "execution_count": 5,
   "id": "loaded-thirty",
   "metadata": {},
   "outputs": [
    {
     "data": {
      "image/png": "[encoded data removed]",
      "text/plain": [
       "<Figure size 432x288 with 1 Axes>"
      ]
     },
     "metadata": {
      "needs_background": "light"
     },
     "output_type": "display_data"
    }
   ],
   "source": [
    "# создаем шахматную доску\n",
    "N = 4\n",
    "M = 6\n",
    "img = np.zeros((N, M))\n",
    "for n in range(0, N):\n",
    "    for m in range(0, M):\n",
    "        if (n & 0x1) ^ (m & 0x1):\n",
    "            img[n, m] = 255\n",
    "\n",
    "# выводим полученную матрицу в виде изображения\n",
    "plt.matshow(img); "
   ]
  },
  {
   "cell_type": "markdown",
   "id": "built-management",
   "metadata": {},
   "source": [
    "## Реальные изображения\n",
    "\n",
    "Аналогично, используя оболочку IPython, можно загрузить любое цифровое изображение и преобразовать его в матрицу (двумерный массив):"
   ]
  },
  {
   "cell_type": "code",
   "execution_count": 23,
   "id": "affiliated-plasma",
   "metadata": {},
   "outputs": [
    {
     "data": {
      "text/plain": [
       "(64, 64)"
      ]
     },
     "execution_count": 23,
     "metadata": {},
     "output_type": "execute_result"
    }
   ],
   "source": [
    "# конвертируем изображение в матрицу\n",
    "img = np.array(plt.imread('jet_64x64.jpg'), dtype=int)\n",
    "# выводим размер матрицы\n",
    "img_X = len(img[:]); # число строк\n",
    "img_Y = len(img[0,:]); # число столбцов\n",
    "np.shape(img)"
   ]
  },
  {
   "cell_type": "code",
   "execution_count": 21,
   "id": "resistant-mercury",
   "metadata": {},
   "outputs": [
    {
     "data": {
      "image/png": "[encoded data removed]",
      "text/plain": [
       "<Figure size 288x288 with 1 Axes>"
      ]
     },
     "metadata": {
      "needs_background": "light"
     },
     "output_type": "display_data"
    }
   ],
   "source": [
    "# выводим само изабражение\n",
    "plt.matshow(img);"
   ]
  },
  {
   "cell_type": "markdown",
   "id": "alike-inside",
   "metadata": {},
   "source": [
    "Изображение имеет разрешение $64\\times64$ пк. Выведем значение какого-нибудь столбца - вектора $64\\times1$:"
   ]
  },
  {
   "cell_type": "code",
   "execution_count": 11,
   "id": "great-charlotte",
   "metadata": {},
   "outputs": [
    {
     "data": {
      "text/plain": [
       "array([74, 66, 57, 53, 53, 52, 53, 56, 61, 60, 60, 61, 58, 54, 54, 56, 60,\n",
       "       61, 66, 69, 69, 69, 64, 58, 55, 54, 49, 49, 56, 63, 71, 82, 85, 85,\n",
       "       83, 79, 78, 79, 78, 75, 75, 70, 68, 69, 67, 65, 65, 64, 62, 63, 64,\n",
       "       68, 76, 82, 81, 80, 77, 78, 77, 74, 73, 73, 72, 70])"
      ]
     },
     "execution_count": 11,
     "metadata": {},
     "output_type": "execute_result"
    }
   ],
   "source": [
    "img[:,15]"
   ]
  },
  {
   "cell_type": "markdown",
   "id": "stone-wound",
   "metadata": {},
   "source": [
    "## Канонический базис\n",
    "\n",
    "Каноническим базисом в пространстве матриц размером $M \\times N$ (пространстве векторов $R^{MN}$)  будет т.н. набор «дельта» матриц $e(N\\times M)$, в которых лишь один элемент равен 1, а остальные - нули."
   ]
  },
  {
   "cell_type": "code",
   "execution_count": 12,
   "id": "pursuant-speaker",
   "metadata": {},
   "outputs": [],
   "source": [
    "# создаем функцию, строящую \"дельта\"-матрицы ращмером NxM\n",
    "def canonical(n, M, N):\n",
    "    e = np.zeros((M, N))\n",
    "    e[(n % M), int(n / M)] = 1\n",
    "    return e"
   ]
  },
  {
   "cell_type": "code",
   "execution_count": 19,
   "id": "awful-syndicate",
   "metadata": {},
   "outputs": [
    {
     "data": {
      "text/plain": [
       "<matplotlib.image.AxesImage at 0x1153b4f10>"
      ]
     },
     "execution_count": 19,
     "metadata": {},
     "output_type": "execute_result"
    },
    {
     "data": {
      "image/png": "[encoded data removed]",
      "text/plain": [
       "<Figure size 576x288 with 1 Axes>"
      ]
     },
     "metadata": {
      "needs_background": "light"
     },
     "output_type": "display_data"
    },
    {
     "data": {
      "image/png": "[encoded data removed]",
      "text/plain": [
       "<Figure size 576x288 with 1 Axes>"
      ]
     },
     "metadata": {
      "needs_background": "light"
     },
     "output_type": "display_data"
    },
    {
     "data": {
      "image/png": "[encoded data removed]",
      "text/plain": [
       "<Figure size 576x288 with 1 Axes>"
      ]
     },
     "metadata": {
      "needs_background": "light"
     },
     "output_type": "display_data"
    }
   ],
   "source": [
    "# зададим размер пространства \n",
    "N = 4\n",
    "M = 8\n",
    "# выведем несколько базисных векторов в виде изображения\n",
    "plt.matshow(canonical (0,N,M))\n",
    "plt.matshow(canonical (10,N,M))\n",
    "plt.matshow(canonical (31,N,M))"
   ]
  },
  {
   "cell_type": "markdown",
   "id": "earned-jamaica",
   "metadata": {},
   "source": [
    "## Хранение и передача изображений\n",
    "\n",
    "Даже небольшие изображения требуют много памяти для хранения. Так, если информация о яркости каждого пикселя занимает 1 байт, то изображение одного кадра в формате FullHD (1920$\\times$1080 пк) требует уже почти 2 мегабайта памяти. Тогда для хранения полуторачасового фильма необходимо уже более 200 гигабайт (!).\n",
    "\n",
    "В этой связи возникает необходимость сжатия изображений. В идеале, сжатие предполагает кодирование изображений так, чтобы они занимали как можно меньший объем памяти, а во время просмотра происходило декодирование записанных в память данных, чтобы получался исходный кадр. На сегодняшний день изобретено множество алгоритмов сжатия (об этом можно судить по количеству форматов, поддерживаемых современными архиваторами: ZIP, 7Z, RAR, GZIP, BZ2 и пр.). \n",
    "\n",
    "К сожалению, теоретический предел сжатия данных для изображений не так уж и велик. Это происходит из-за того, что в изображениях из реального мира (например, фотографиях) значения яркости редко бывают одинаковыми даже у соседних пикселей. Эти колебания яркости могут быть незаметны человеческому глазу, но при сжатии их все равно приходится учитывать. В то же время, алгоритмы сжатия «любят», когда в данных есть закономерность. Так, последовательность из ста нулей кодируется лишь парой чисел (100,0). Однако если в середине последовательности окажется единица, для ее кодирования потребуется уже больший объем информации.\n",
    "\n",
    "Другая проблема - восстановление данных на случай потерь в канале передачи. Допустим, нам нужно переслать наше экспериментальное изображение размером 64х64 пк. Напрямую, это эквивалентно пересылке 64х64=4096 коэффициентов разложения изображения по каноническому базису. Допустим, из-за обрыва в канале передачи удалось отправить только половину информации. Это можно смоделировать следующим образом:\n"
   ]
  },
  {
   "cell_type": "code",
   "execution_count": 25,
   "id": "conditional-birth",
   "metadata": {},
   "outputs": [
    {
     "data": {
      "image/png": "[encoded data removed]",
      "text/plain": [
       "<Figure size 288x288 with 1 Axes>"
      ]
     },
     "metadata": {
      "needs_background": "light"
     },
     "output_type": "display_data"
    }
   ],
   "source": [
    "# преобразуем матрицу изображения в вектор по столбцам:\n",
    "ar_img = np.ravel(img, order=\"F\")\n",
    "# удаляем половину данных:\n",
    "ar_img[int(len(ar_img)/2):] = 0\n",
    "# «пересобираем» матрицу и выводим изображение:\n",
    "re_img = np.reshape(ar_img, (img_X, img_Y), order=\"F\")\n",
    "plt.matshow(re_img);"
   ]
  },
  {
   "cell_type": "markdown",
   "id": "aquatic-sleeping",
   "metadata": {},
   "source": [
    "## Преобразование Хаара\n",
    "\n",
    "Итак, стоит задача: преобразовать изображение так, чтобы оно хорошо сжималось классическими алгоритмами и было более устойчивым к потерям в канале передачи. Для этого можно использовать разложение не по каноническому базису, а по ортогональному $\\textit{базису Хаара}$.\n",
    "\n",
    "Вспомним, что яркость соседних пикселей на «реальных» изображениях обычно отличается на небольшую величину, т.е. резкие перепады яркости встречаются редко и лишь на малой части изображения.\n",
    "\n",
    "Рассмотрим фрагмент выведенной строки нашего изображения:\n",
    "\n",
    ".., 66, 57, 53, 53, 52, 53, 56, 61, ..\n",
    "\n",
    "Разобьем данную последовательность на пары и каждой паре элементов поставим в соответствие два числа - их полусумму и полуразность. Тогда на выходе получим две последовательности (61.5, 53, 52.5, 58.5) и (4.5, 0.0, -0.5, -2.5). Повторяя операцию применительно к первой последовательности, получим (57.25, 55.5) и (4.25, -3.0). Таким образом, для каждого элемента исходного сигнала на выходе мы получаем два сигнала, один из которых является огрубленной версией входного сигнала, а второй содержит детализирующую информацию, необходимую для восстановления исходного сигнала. Этот принцип - выделение информации при различных уровнях детализации - лежит в основе $\\textit{вейвлет-преобразования сигналов}$.\n",
    "\n",
    "Не углубляясь в математику, попробуем сгенерировать ортогональный базис Хаара для квадратных матриц, число строк и столбцов в которых является степенью 2. Для этого сначала генерируем 1-мерный вектор Хаара, а затем на его основе построим базисные матрицы (размером 8х8) в виде векторного произведения всех возможных 1-мерных векторов.\n",
    "\n"
   ]
  },
  {
   "cell_type": "code",
   "execution_count": null,
   "id": "surprised-affair",
   "metadata": {},
   "outputs": [],
   "source": []
  },
  {
   "cell_type": "markdown",
   "id": "moved-cleanup",
   "metadata": {},
   "source": [
    "Подробнее про вейвлет Хаара и вейвлет-преобразования можно найти в литературе: \n",
    "\n",
    "1) Яковлев А.Н. Введение в вейвлет-преобразования: Учеб. пособие. – Новосибирск: Изд-во НГТУ, 2003.\n",
    "\n",
    "2) Уэлстид С. Фракталы и вейвлеты для сжатия изображений в действии. — М.: Триумф, 2003."
   ]
  },
  {
   "cell_type": "code",
   "execution_count": null,
   "id": "hazardous-henry",
   "metadata": {},
   "outputs": [],
   "source": []
  }
 ],
 "metadata": {
  "kernelspec": {
   "display_name": "fpy",
   "language": "python",
   "name": "py3"
  },
  "language_info": {
   "codemirror_mode": {
    "name": "ipython",
    "version": 3
   },
   "file_extension": ".py",
   "mimetype": "text/x-python",
   "name": "python",
   "nbconvert_exporter": "python",
   "pygments_lexer": "ipython3",
   "version": "3.9.2"
  }
 },
 "nbformat": 4,
 "nbformat_minor": 5
}
