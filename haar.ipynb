{
 "cells": [
  {
   "cell_type": "markdown",
   "id": "earlier-tracker",
   "metadata": {},
   "source": [
    "# Растровые изображения и базис Хаара\n",
    "## Введение\n",
    "\n",
    "С точки зрения линейной алгебры, пространство матриц размером M x N эквивалентно пространству векторов $R^{MN}$, то есть всегда можно \"развернуть\" матрицу (например, по столбцам) так, что получится вектор: \n",
    "\n",
    "$$\n",
    "    \\mathbf{a} = \\mathbf{A}[:] = [\n",
    "        \\begin{array}{ccccccc}\n",
    "            a_{0,0} & \\dots & a_{M-1,0} & a_{0,1} & \\dots & a_{M-1,1} & \\ldots & a_{0, N-1} & \\dots & a_{M-1,N-1}\n",
    "        \\end{array}]^T\n",
    "$$\n",
    "\n",
    "При этом скалярное произведение в пространстве $R^{MN}$ определяется как:\n",
    "\n",
    "$$\n",
    "\\langle \\mathbf{A}, \\mathbf{B} \\rangle = \\sum_{m=0}^{M-1} \\sum_{n=0}^{N-1} a_{m,n} b_{m, n}\n",
    "$$\n",
    "\n",
    "(рассматриваем матрицы действительных чисел, поэтому в формуле нет комплексного сопряжения).\n"
   ]
  },
  {
   "cell_type": "markdown",
   "id": "innocent-commerce",
   "metadata": {},
   "source": [
    "Упрощённо, любое цифровое (*$\\textit{растровое}$) изображение представляет собой матрицу, в ячейках которой хранятся цвета каждого пикселя. Если речь идет о чёрно-белых изображениях, то вместо цвета в каждую ячейку помещают значения яркости из отрезка [0, 1]. Но с дробями работать неудобно, поэтому часто значения яркости берут целыми из диапазона от 0 до 255 (при этом 0 соответствует чёрному цвету, 255 — белому). Тогда каждое значение будет занимать ровно 1 байт (8 бит). \n",
    "\n",
    "Зная это, можно сгенерировать простейшее цифровое изображение - шахматную доску $N\\times M$. В среде Python это будет выглядеть так:"
   ]
  },
  {
   "cell_type": "code",
   "execution_count": 1,
   "id": "obvious-hardware",
   "metadata": {},
   "outputs": [],
   "source": [
    "#стандартная преамбула в Python\n",
    "%matplotlib inline\n",
    "import matplotlib\n",
    "import matplotlib.pyplot as plt\n",
    "import numpy as np\n",
    "import IPython\n",
    "from IPython.display import Image\n",
    "import math"
   ]
  },
  {
   "cell_type": "markdown",
   "id": "pressing-raleigh",
   "metadata": {},
   "source": [
    "Упрощённо, любое цифровое (! $\\textit{растровое}$) изображение представляет собой матрицу, в ячейках которой хранятся цвета каждого пикселя. Если речь идет о чёрно-белых изображениях, то вместо цвета в каждую ячейку помещают значения яркости из отрезка [0, 1]. Но с дробями работать неудобно, поэтому часто значения яркости берут целыми из диапазона от 0 до 255 (при этом 0 соответствует чёрному цвету, 255 — белому). Тогда каждое значение будет занимать ровно 1 байт (8 бит). \n",
    "\n",
    "Зная это, можно сгенерировать простейшее цифровое изображение - шахматную доску $N\\times N$. В среде Python это будет выглядеть так:"
   ]
  },
  {
   "cell_type": "code",
   "execution_count": 2,
   "id": "inner-victory",
   "metadata": {},
   "outputs": [
    {
     "data": {
      "text/plain": [
       "<Figure size 432x288 with 0 Axes>"
      ]
     },
     "metadata": {},
     "output_type": "display_data"
    }
   ],
   "source": [
    "# включаем черно-белую гамму\n",
    "plt.gray();"
   ]
  },
  {
   "cell_type": "code",
   "execution_count": 5,
   "id": "loaded-thirty",
   "metadata": {},
   "outputs": [
    {
     "data": {
      "image/png": "[encoded data removed]",
      "text/plain": [
       "<Figure size 432x288 with 1 Axes>"
      ]
     },
     "metadata": {
      "needs_background": "light"
     },
     "output_type": "display_data"
    }
   ],
   "source": [
    "# создаем шахматную доску\n",
    "N = 4\n",
    "M = 6\n",
    "img = np.zeros((N, M))\n",
    "for n in range(0, N):\n",
    "    for m in range(0, M):\n",
    "        if (n & 0x1) ^ (m & 0x1):\n",
    "            img[n, m] = 255\n",
    "\n",
    "# выводим полученную матрицу в виде изображения\n",
    "plt.matshow(img); "
   ]
  },
  {
   "cell_type": "markdown",
   "id": "restricted-blocking",
   "metadata": {},
   "source": [
    "## Реальные изображения\n",
    "\n",
    "Аналогично, используя оболочку IPython, можно загрузить любое цифровое изображение и преобразовать его в матрицу (двумерный массив):"
   ]
  },
  {
   "cell_type": "code",
   "execution_count": 48,
   "id": "funky-production",
   "metadata": {},
   "outputs": [
    {
     "data": {
      "text/plain": [
       "(64, 64)"
      ]
     },
     "execution_count": 48,
     "metadata": {},
     "output_type": "execute_result"
    }
   ],
   "source": [
    "# конвертируем изображение в матрицу\n",
    "img = np.array(plt.imread('jet_64x64.jpg'), dtype=int)\n",
    "# выводим размер матрицы\n",
    "img_X = len(img[:]); # число строк\n",
    "img_Y = len(img[0,:]); # число столбцов\n",
    "np.shape(img)"
   ]
  },
  {
   "cell_type": "code",
   "execution_count": 21,
   "id": "korean-rubber",
   "metadata": {},
   "outputs": [
    {
     "data": {
      "image/png": "[encoded data removed]",
      "text/plain": [
       "<Figure size 288x288 with 1 Axes>"
      ]
     },
     "metadata": {
      "needs_background": "light"
     },
     "output_type": "display_data"
    }
   ],
   "source": [
    "# выводим само изабражение\n",
    "plt.matshow(img);"
   ]
  },
  {
   "cell_type": "markdown",
   "id": "conceptual-escape",
   "metadata": {},
   "source": [
    "Изображение имеет разрешение $64\\times64$ пк. Выведем значение какого-нибудь столбца - вектора $64\\times1$:"
   ]
  },
  {
   "cell_type": "code",
   "execution_count": 28,
   "id": "direct-facility",
   "metadata": {},
   "outputs": [
    {
     "data": {
      "text/plain": [
       "array([74, 66, 57, 53, 53, 52, 53, 56, 61, 60, 60, 61, 58, 54, 54, 56, 60,\n",
       "       61, 66, 69, 69, 69, 64, 58, 55, 54, 49, 49, 56, 63, 71, 82, 85, 85,\n",
       "       83, 79, 78, 79, 78, 75, 75, 70, 68, 69, 67, 65, 65, 64, 62, 63, 64,\n",
       "       68, 76, 82, 81, 80, 77, 78, 77, 74, 73, 73, 72, 70])"
      ]
     },
     "execution_count": 28,
     "metadata": {},
     "output_type": "execute_result"
    }
   ],
   "source": [
    "img[:,15]"
   ]
  },
  {
   "cell_type": "markdown",
   "id": "floating-bandwidth",
   "metadata": {},
   "source": [
    "## Канонический базис\n",
    "\n",
    "Каноническим базисом в пространстве матриц размером $M \\times N$ (пространстве векторов $R^{MN}$)  будет т.н. набор «дельта» матриц $e(N\\times M)$, в которых лишь один элемент равен 1, а остальные - нули."
   ]
  },
  {
   "cell_type": "code",
   "execution_count": 12,
   "id": "breeding-insulation",
   "metadata": {},
   "outputs": [],
   "source": [
    "# создаем функцию, строящую \"дельта\"-матрицы ращмером NxM\n",
    "def canonical(n, M, N):\n",
    "    e = np.zeros((M, N))\n",
    "    e[(n % M), int(n / M)] = 1\n",
    "    return e"
   ]
  },
  {
   "cell_type": "code",
   "execution_count": 19,
   "id": "previous-withdrawal",
   "metadata": {},
   "outputs": [
    {
     "data": {
      "text/plain": [
       "<matplotlib.image.AxesImage at 0x1153b4f10>"
      ]
     },
     "execution_count": 19,
     "metadata": {},
     "output_type": "execute_result"
    },
    {
     "data": {
      "image/png": "[encoded data removed]",
      "text/plain": [
       "<Figure size 576x288 with 1 Axes>"
      ]
     },
     "metadata": {
      "needs_background": "light"
     },
     "output_type": "display_data"
    },
    {
     "data": {
      "image/png": "[encoded data removed]",
      "text/plain": [
       "<Figure size 576x288 with 1 Axes>"
      ]
     },
     "metadata": {
      "needs_background": "light"
     },
     "output_type": "display_data"
    },
    {
     "data": {
      "image/png": "[encoded data removed]",
      "text/plain": [
       "<Figure size 576x288 with 1 Axes>"
      ]
     },
     "metadata": {
      "needs_background": "light"
     },
     "output_type": "display_data"
    }
   ],
   "source": [
    "# зададим размер пространства \n",
    "N = 4\n",
    "M = 8\n",
    "# выведем несколько базисных векторов в виде изображения\n",
    "plt.matshow(canonical (0,N,M))\n",
    "plt.matshow(canonical (10,N,M))\n",
    "plt.matshow(canonical (31,N,M))"
   ]
  },
  {
   "cell_type": "markdown",
   "id": "antique-chambers",
   "metadata": {},
   "source": [
    "## Хранение и передача изображений\n",
    "\n",
    "Даже небольшие изображения требуют много памяти для хранения. Так, если информация о яркости каждого пикселя занимает 1 байт, то изображение одного кадра в формате FullHD (1920$\\times$1080 пк) требует уже почти 2 мегабайта памяти. Тогда для хранения полуторачасового фильма необходимо уже более 200 гигабайт (!).\n",
    "\n",
    "В этой связи возникает необходимость сжатия изображений. В идеале, сжатие предполагает кодирование изображений так, чтобы они занимали как можно меньший объем памяти, а во время просмотра происходило декодирование записанных в память данных, чтобы получался исходный кадр. На сегодняшний день изобретено множество алгоритмов сжатия (об этом можно судить по количеству форматов, поддерживаемых современными архиваторами: ZIP, 7Z, RAR, GZIP, BZ2 и пр.). \n",
    "\n",
    "К сожалению, теоретический предел сжатия данных для изображений не так уж и велик. Это происходит из-за того, что в изображениях из реального мира (например, фотографиях) значения яркости редко бывают одинаковыми даже у соседних пикселей. Эти колебания яркости могут быть незаметны человеческому глазу, но при сжатии их все равно приходится учитывать. В то же время, алгоритмы сжатия «любят», когда в данных есть закономерность. Так, последовательность из ста нулей кодируется лишь парой чисел (100,0). Однако если в середине последовательности окажется единица, для ее кодирования потребуется уже больший объем информации.\n",
    "\n",
    "Другая проблема - восстановление данных на случай потерь в канале передачи. Допустим, нам нужно переслать наше экспериментальное изображение размером 64х64 пк. Напрямую, это эквивалентно пересылке 64х64=4096 коэффициентов разложения изображения по каноническому базису. Допустим, из-за обрыва в канале передачи удалось отправить только половину информации. Это можно смоделировать следующим образом:\n"
   ]
  },
  {
   "cell_type": "code",
   "execution_count": 25,
   "id": "mechanical-dining",
   "metadata": {},
   "outputs": [
    {
     "data": {
      "image/png": "[encoded data removed]",
      "text/plain": [
       "<Figure size 288x288 with 1 Axes>"
      ]
     },
     "metadata": {
      "needs_background": "light"
     },
     "output_type": "display_data"
    }
   ],
   "source": [
    "# преобразуем матрицу изображения в вектор по столбцам:\n",
    "ar_img = np.ravel(img, order=\"F\")\n",
    "# удаляем половину данных:\n",
    "ar_img[int(len(ar_img)/2):] = 0\n",
    "# «пересобираем» матрицу и выводим изображение:\n",
    "re_img = np.reshape(ar_img, (img_X, img_Y), order=\"F\")\n",
    "plt.matshow(re_img);"
   ]
  },
  {
   "cell_type": "markdown",
   "id": "executive-trance",
   "metadata": {},
   "source": [
    "## Преобразование Хаара\n",
    "\n",
    "Итак, стоит задача: преобразовать изображение так, чтобы оно хорошо сжималось классическими алгоритмами и было более устойчивым к потерям в канале передачи. Для этого можно использовать разложение не по каноническому базису, а по ортогональному $\\textbf{базису Хаара}$.\n",
    "\n",
    "Вспомним, что яркость соседних пикселей на «реальных» изображениях обычно отличается на небольшую величину, т.е. резкие перепады яркости встречаются редко и лишь на малой части изображения.\n",
    "\n",
    "Рассмотрим фрагмент выведенной строки нашего изображения:\n",
    "\n",
    ".., 69, 67, 65, 65, 64, 62, 63, 64, ..\n",
    "\n",
    "Разобьем данную последовательность на пары и каждой паре элементов поставим в соответствие два числа - их полусумму и полуразность. Тогда на выходе получим две последовательности (68, 65, 63, 63.5) и (1.0, 0.0, 1.0, -0.5). Повторяя операцию применительно к первой последовательности, получим (66.5, 63.25) и (1.5, -0.25). Таким образом, для каждого элемента исходного сигнала на выходе мы получаем два сигнала, один из которых является огрубленной версией входного сигнала, а второй содержит детализирующую информацию, необходимую для восстановления исходного сигнала. Этот принцип - выделение информации при различных уровнях детализации - лежит в основе $\\textbf{вейвлет-преобразования сигналов}$.\n",
    "\n",
    "Не углубляясь в математику, попробуем сгенерировать $\\textit{ортогональный}$ базис Хаара для квадратных матриц, число строк и столбцов в которых является степенью 2. Для этого сначала генерируем 1-мерный вектор Хаара, а затем на его основе построим базисные матрицы (размером 8х8) в виде векторного произведения всех возможных 1-мерных векторов.\n",
    "\n"
   ]
  },
  {
   "cell_type": "code",
   "execution_count": 43,
   "id": "arctic-cattle",
   "metadata": {},
   "outputs": [],
   "source": [
    "def haar1D(n, SIZE):\n",
    "    # проверяем размер вектора (должен быть степенью 2)\n",
    "    if math.floor(math.log(SIZE) / math.log(2)) != math.log(SIZE) / math.log(2):\n",
    "        print(\"invalid Haar size\")\n",
    "        return None\n",
    "    if n >= SIZE or n < 0:\n",
    "        print(\"invalid Haar index\")\n",
    "        return None\n",
    "    \n",
    "    # задаем нулевой базисный вектор\n",
    "    if n == 0:\n",
    "        return np.ones(SIZE)\n",
    "    \n",
    "    # для n > 1 зададаем параметр сдвига s = qk,\n",
    "    # k = SIZE/2^p, p - максимально возможное, \n",
    "    # q = n - 2^p\n",
    "    p = math.floor(math.log(n) / math.log(2))\n",
    "    pp = int(pow(2, p))\n",
    "    k = SIZE / pp\n",
    "    s = (n - pp) * k\n",
    "    \n",
    "    h = np.zeros(SIZE)\n",
    "    h[int(s):int(s+k/2)] = 1\n",
    "    h[int(s+k/2):int(s+k)] = -1\n",
    "    return h\n",
    "\n",
    "\n",
    "def haar2D(n, SIZE):\n",
    "    # задаем горизонтальные и вертикальные индексы\n",
    "    hr = haar1D(n % SIZE, SIZE) # % - оператор остатка от деления целых\n",
    "    hv = haar1D(int(n / SIZE), SIZE)\n",
    "    # матрица Хаара - внешнее произведение двух 1D векторов Хаара\n",
    "    H = np.outer(hr, hv)\n",
    "    H = H / math.sqrt(np.sum(H * H))\n",
    "    return H"
   ]
  },
  {
   "cell_type": "markdown",
   "id": "exterior-jersey",
   "metadata": {},
   "source": [
    "Выведем несколько базисных матриц в пространстве $\\textbf{C}^{8x8}$ (поскольку элементы матрицы могут принимать как положительные, так и отрицательные значения, значению 0 соответствует серый цвет):\n"
   ]
  },
  {
   "cell_type": "code",
   "execution_count": 45,
   "id": "transsexual-plumbing",
   "metadata": {},
   "outputs": [
    {
     "data": {
      "image/png": "[encoded data removed]",
      "text/plain": [
       "<Figure size 288x288 with 1 Axes>"
      ]
     },
     "metadata": {
      "needs_background": "light"
     },
     "output_type": "display_data"
    },
    {
     "data": {
      "image/png": "[encoded data removed]",
      "text/plain": [
       "<Figure size 288x288 with 1 Axes>"
      ]
     },
     "metadata": {
      "needs_background": "light"
     },
     "output_type": "display_data"
    },
    {
     "data": {
      "image/png": "[encoded data removed]",
      "text/plain": [
       "<Figure size 288x288 with 1 Axes>"
      ]
     },
     "metadata": {
      "needs_background": "light"
     },
     "output_type": "display_data"
    },
    {
     "data": {
      "image/png": "[encoded data removed]",
      "text/plain": [
       "<Figure size 288x288 with 1 Axes>"
      ]
     },
     "metadata": {
      "needs_background": "light"
     },
     "output_type": "display_data"
    }
   ],
   "source": [
    "plt.matshow(haar2D(0,8));\n",
    "plt.matshow(haar2D(2,8));\n",
    "plt.matshow(haar2D(14,8));\n",
    "plt.matshow(haar2D(63,8));"
   ]
  },
  {
   "attachments": {
    "image.png": {
     "image/png": "[encoded data removed]"
    }
   },
   "cell_type": "markdown",
   "id": "grave-allowance",
   "metadata": {},
   "source": [
    "Можно заметить, что:\n",
    "\n",
    "* базисные матрицы содержат как положительные, так и отрицательные значения, расположенные в симметричном порядке: значит, такой базис будет вычислять разности между различными зонами изображения\n",
    "* чем больше индекс матрицы, тем эти зоны оказываются более $\\textit{локализованными}$\n",
    "\n",
    "\n",
    "В общем случае, матрица перехода к ортогональному базису Хаара в пространстве $\\textbf{C}^{8x8}$ выглядит примерно так:\n",
    "![image.png](attachment:image.png)\n",
    "\n",
    "Можно проверить ортогональность базисных матриц:"
   ]
  },
  {
   "cell_type": "code",
   "execution_count": 41,
   "id": "annoying-disabled",
   "metadata": {},
   "outputs": [
    {
     "name": "stdout",
     "output_type": "stream",
     "text": [
      "[0x0 ->  1.0] [1x1 ->  1.0] [2x2 ->  1.0] [3x3 ->  1.0] [4x4 ->  1.0] [5x5 ->  1.0] [6x6 ->  1.0] [7x7 ->  1.0] [8x8 ->  1.0] [9x9 ->  1.0] [10x10 ->  1.0] [11x11 ->  1.0] [12x12 ->  1.0] [13x13 ->  1.0] [14x14 ->  1.0] [15x15 ->  1.0] [16x16 ->  1.0] [16x17 -> -0.0] [17x16 -> -0.0] [17x17 ->  1.0] [18x18 ->  1.0] [19x19 ->  1.0] [20x20 ->  1.0] [21x21 ->  1.0] [22x22 ->  1.0] [23x23 ->  1.0] [24x24 ->  1.0] [24x25 -> -0.0] [25x24 -> -0.0] [25x25 ->  1.0] [26x26 ->  1.0] [27x27 ->  1.0] [28x28 ->  1.0] [29x29 ->  1.0] [30x30 ->  1.0] [31x31 ->  1.0] [32x32 ->  1.0] [33x33 ->  1.0] [34x34 ->  1.0] [35x35 ->  1.0] [36x36 ->  1.0] [37x37 ->  1.0] [38x38 ->  1.0] [39x39 ->  1.0] [40x40 ->  1.0] [41x41 ->  1.0] [42x42 ->  1.0] [43x43 ->  1.0] [44x44 ->  1.0] [45x45 ->  1.0] [46x46 ->  1.0] [47x47 ->  1.0] [48x48 ->  1.0] [49x49 ->  1.0] [50x50 ->  1.0] [51x51 ->  1.0] [52x52 ->  1.0] [53x53 ->  1.0] [54x54 ->  1.0] [55x55 ->  1.0] [56x56 ->  1.0] [57x57 ->  1.0] [58x58 ->  1.0] [59x59 ->  1.0] [60x60 ->  1.0] [61x61 ->  1.0] [62x62 ->  1.0] [63x63 ->  1.0] "
     ]
    }
   ],
   "source": [
    "# вычислим скалярное произведение всех базисных матриц и выведем только ненулевые результаты\n",
    "for m in range(0,64):\n",
    "    for n in range(0,64):\n",
    "        r = np.sum(haar2D(m, 8) * haar2D(n, 8))\n",
    "        if r != 0:\n",
    "            print(\"[%dx%d -> % .1f] \" % (m, n, r), end=\"\")"
   ]
  },
  {
   "cell_type": "markdown",
   "id": "excessive-church",
   "metadata": {},
   "source": [
    "Убедившись, что получившийся базис ортогонален, разложим наше изобраджение по этому базису:"
   ]
  },
  {
   "cell_type": "code",
   "execution_count": 53,
   "id": "continental-bullet",
   "metadata": {},
   "outputs": [
    {
     "data": {
      "image/png": "[encoded data removed]",
      "text/plain": [
       "<Figure size 288x288 with 1 Axes>"
      ]
     },
     "metadata": {
      "needs_background": "light"
     },
     "output_type": "display_data"
    }
   ],
   "source": [
    "# спроецируем исходное изображение на базис Хаара, получим 4096 коэффициентов разложения:\n",
    "haar_img = np.zeros(img_X*img_Y)\n",
    "for k in range(0, (img_X*img_Y)):\n",
    "    haar_img[k] = np.sum(img * haar2D(k, img_X))\n",
    "\n",
    "# затем восстановим (синтезируем) исходное изображение:\n",
    "re_img = np.zeros((img_X,img_Y))\n",
    "for k in range(0, (img_X*img_Y)):\n",
    "    re_img += haar_img[k] * haar2D(k, img_X)\n",
    "\n",
    "plt.matshow(re_img);"
   ]
  },
  {
   "cell_type": "markdown",
   "id": "russian-termination",
   "metadata": {},
   "source": [
    "Теперь представим опять, что половина коэффициентов разложения была утрачена в канале передачи, и попробуем снова восстановить исходное изображение:"
   ]
  },
  {
   "cell_type": "code",
   "execution_count": 57,
   "id": "determined-twenty",
   "metadata": {},
   "outputs": [
    {
     "data": {
      "image/png": "[encoded data removed]",
      "text/plain": [
       "<Figure size 288x288 with 1 Axes>"
      ]
     },
     "metadata": {
      "needs_background": "light"
     },
     "output_type": "display_data"
    }
   ],
   "source": [
    "new_img = np.copy(haar_img);\n",
    "new_img[int(len(new_img)/2):] = 0\n",
    "\n",
    "# \"пересобираем\" матрицу\n",
    "re_img = np.zeros((img_X,img_Y))\n",
    "for k in range(0, (img_X*img_Y)):\n",
    "    re_img += new_img[k] * haar2D(k, img_X)\n",
    "\n",
    "plt.matshow(re_img);"
   ]
  },
  {
   "cell_type": "markdown",
   "id": "rocky-switch",
   "metadata": {},
   "source": [
    "В данном случае мы сохранили первую половину коэффициентов разложения, соответствующих полусумме значений яркости. Если представить, что сохранилась только вторая половина коэффициентов, результат восстановления будет уже другой:"
   ]
  },
  {
   "cell_type": "code",
   "execution_count": 58,
   "id": "prescription-session",
   "metadata": {},
   "outputs": [
    {
     "data": {
      "image/png": "[encoded data removed]",
      "text/plain": [
       "<Figure size 288x288 with 1 Axes>"
      ]
     },
     "metadata": {
      "needs_background": "light"
     },
     "output_type": "display_data"
    }
   ],
   "source": [
    "new_img = np.copy(haar_img);\n",
    "new_img[0:int(len(new_img)/2)] = 0\n",
    "\n",
    "# \"пересобираем\" матрицу\n",
    "re_img = np.zeros((img_X,img_Y))\n",
    "for k in range(0, (img_X*img_Y)):\n",
    "    re_img += new_img[k] * haar2D(k, img_X)\n",
    "\n",
    "plt.matshow(re_img);"
   ]
  },
  {
   "cell_type": "markdown",
   "id": "subtle-tiger",
   "metadata": {},
   "source": [
    "Таким образом, преобразование Хаара можно считать неким фильтром, разделяющим сигнал на низкочастотную и высокочастотную составляющие. Так, полусуммы элементов изображения усредняют значения яркостей, то есть «отфильтровывают» случайные всплески значений. Аналогично, разности «выделяют» среди значений межпиксельные «всплески», т.е. «отфильтровывают» низкие частоты. Если наше изображение - фотография человека, то низкочастотная составляющая несёт в себе информацию об общей форме лица, о плавных перепадах яркости, а высокочастотная — это шум и мелкие детали. Чтобы получить исходное изображение (сигнал), нужно просто снова объединить обе составляющие.\n",
    "\n",
    "Преобразование Хаара лежит в основе поэтапного кодирования - сначала отправляются элементы, несущие приближенную информацию с низким разрешением (низкочастотная составляющая), а затем, если канал передачи позволяет, добавляется детализирующая информация (высокочастотная составляющая). Это можно наблюдать, например, в процессе открытия интернет-страниц при низкой скорости сети.\n",
    "\n",
    "Очевидно, что преобразование Хаара будет давать наилучший результат, когда мы получим много нулей, то есть, когда изображение содержит длинные участки одинаковых значений яркости. Это может быть, например, рентгеновский снимок, отсканированный документ.\n",
    "\n",
    "Говорят, что преобразование Хаара устраняет т.н. константную составляющую (момент нулевого порядка), то есть переводит константы в нули. Для устранения моментов более высокого порядка имеются усовершенствованные вейвлет-преобразования (например, преобразование Добеши).\n"
   ]
  },
  {
   "cell_type": "markdown",
   "id": "pharmaceutical-liquid",
   "metadata": {},
   "source": [
    "Подробнее про вейвлет Хаара и вейвлет-преобразования можно найти в литературе: \n",
    "\n",
    "1) Яковлев А.Н. Введение в вейвлет-преобразования: Учеб. пособие. – Новосибирск: Изд-во НГТУ, 2003.\n",
    "\n",
    "2) Уэлстид С. Фракталы и вейвлеты для сжатия изображений в действии. — М.: Триумф, 2003."
   ]
  }
 ],
 "metadata": {
  "kernelspec": {
   "display_name": "fpy",
   "language": "python",
   "name": "py3"
  },
  "language_info": {
   "codemirror_mode": {
    "name": "ipython",
    "version": 3
   },
   "file_extension": ".py",
   "mimetype": "text/x-python",
   "name": "python",
   "nbconvert_exporter": "python",
   "pygments_lexer": "ipython3",
   "version": "3.9.2"
  }
 },
 "nbformat": 4,
 "nbformat_minor": 5
}
